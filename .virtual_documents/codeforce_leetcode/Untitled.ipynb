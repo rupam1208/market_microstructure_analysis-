lst=[1,2,3]
lst.remove(lst[0])
print(lst)


class Solution:
    
    def matchPlayersAndTrainers(self, players: list[int], trainers: list[int]) -> int:
            
            n_pl=len(players)
            n_tr=len(trainers)
            count=0
            if n_pl<=n_tr:
                for pl in players:
                    print(pl)
                    print(trainers)
                    i=0
                    while pl>trainers[i] and i<len(trainers):
                        i+=1
                    if pl<=trainers[i]:
                        count+=1
                        trainers=trainers.remove(trainers[i])
            else:
                for tr in trainers:
                    i=0
                    while players[i]>tr and i<len(players):
                        i+=1
                    if players[i]<=tr:
                        count+=1
                        players=players.remove(players[i])
            return count


Solution().matchPlayersAndTrainers([4,7,9],[8,2,8,5])


[1,2,3][1]


for i in [1,2,3]:
    print(i)


lst=[1,2,3,5,1,2]
lst.sort()
lst


string='abc'
string.split()


[c for c in string]


string.join('d')


string



