#import numpy as np


n=int(input())
lst=[int(item) for item in input().split()]
def number_of_ways(n,lst):
    count=0
    if n>=3:
        try:
            splt_list=[]
            for i in range(1,n-1):
                for j in range(i+1,n):
                    splt_list.append([lst[:i],lst[i:j],lst[j:]])
            for l in splt_list: 
                if sum(l[0])==sum(l[1]) and sum(l[1])==sum(l[2]):
                    count+=1
        except Exception as e:
            print(f"error: {e}")
            
    return count
    
print(number_of_ways(n,lst))



