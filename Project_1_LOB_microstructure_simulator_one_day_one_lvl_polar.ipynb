{
 "cells": [
  {
   "cell_type": "code",
   "execution_count": 1,
   "id": "35646122-4c3d-4a86-b257-7111744cee0d",
   "metadata": {},
   "outputs": [],
   "source": [
    "%matplotlib widget"
   ]
  },
  {
   "cell_type": "code",
   "execution_count": 2,
   "id": "357c5ee8-4c01-4b5c-9373-0d648f37e326",
   "metadata": {},
   "outputs": [],
   "source": [
    "\n",
    "import warnings\n",
    "warnings.filterwarnings('ignore', category=DeprecationWarning)\n",
    "\n",
    "from IPython.core.interactiveshell import InteractiveShell\n",
    "InteractiveShell.ast_node_interactivity = \"all\""
   ]
  },
  {
   "cell_type": "code",
   "execution_count": 3,
   "id": "ef8b4622-ea5b-4ef4-8794-c052d7a5a62e",
   "metadata": {},
   "outputs": [],
   "source": [
    "import matplotlib as mpl\n",
    "import numpy as np\n",
    "import matplotlib.pyplot as plt\n",
    "import pandas as pd\n",
    "import os\n",
    "import scipy as sp\n",
    "import databento as db \n",
    "import zstandard as zstd\n",
    "from databento import DBNStore\n",
    "import math\n",
    "import matplotlib.animation as animation # for animation"
   ]
  },
  {
   "cell_type": "code",
   "execution_count": 4,
   "id": "35bc373c-9159-4eba-ab2d-41cbf303444e",
   "metadata": {},
   "outputs": [],
   "source": [
    "# import polars\n",
    "\n",
    "import polars as pl"
   ]
  },
  {
   "cell_type": "code",
   "execution_count": 5,
   "id": "e886da9a-b227-40b2-9c60-60cb72c3b1d2",
   "metadata": {},
   "outputs": [],
   "source": [
    "bclr=['r','b','g','m','y','c','k']\n",
    "\n",
    "notebook_dir=\"/home/rupam/Rupam_pcloud/Quantitative Finance/Quant_researcher_Job/Strategic_prep/My_projects/\"\n",
    "data_path=notebook_dir+\"Mini_S_and_P_futures_data/LOB_10/\"\n"
   ]
  },
  {
   "cell_type": "code",
   "execution_count": 6,
   "id": "bce3c7f6-866c-4f92-a0fb-065635258588",
   "metadata": {},
   "outputs": [],
   "source": [
    "files=[data_path+f'glbx-mdp3-{day}.mbp-10.parquet' for day in ['20220202','20220203','20220204','20220211']]"
   ]
  },
  {
   "cell_type": "code",
   "execution_count": null,
   "id": "755d3859-4b72-41ec-bd7b-db5a6bea80de",
   "metadata": {},
   "outputs": [],
   "source": [
    "%%time\n",
    "df = pl.read_parquet(files)"
   ]
  },
  {
   "cell_type": "code",
   "execution_count": null,
   "id": "100d13b4-f0c0-438c-98d8-705e5eb52437",
   "metadata": {},
   "outputs": [],
   "source": [
    "df"
   ]
  },
  {
   "cell_type": "code",
   "execution_count": null,
   "id": "fbea586a-cb49-4fed-9a8f-b297dc46f256",
   "metadata": {},
   "outputs": [],
   "source": [
    "df.columns;\n",
    "lvl_lst=['00']#,'02','04','06']\n",
    "cols=['ts_event','action','side','price','size']+[col for col in df.columns if any(lvl in col for lvl in lvl_lst)]+['symbol']\n",
    "cols;"
   ]
  },
  {
   "cell_type": "code",
   "execution_count": null,
   "id": "15396444-69ce-484c-ba2d-3a0150b550ba",
   "metadata": {},
   "outputs": [],
   "source": [
    "df['action']"
   ]
  },
  {
   "cell_type": "code",
   "execution_count": null,
   "id": "343f4928-d1cc-405e-8722-0a3eedcd280e",
   "metadata": {},
   "outputs": [],
   "source": [
    "df_ESH2.col('ts_event')"
   ]
  },
  {
   "cell_type": "code",
   "execution_count": null,
   "id": "a1dd504d-540d-4d9c-ad5b-4015c1a98e1b",
   "metadata": {},
   "outputs": [],
   "source": [
    "df_ESH2['ts_event']=df_ESH2.col('ts_event').str.strptime(pl.Datetime, strict=False)"
   ]
  },
  {
   "cell_type": "code",
   "execution_count": null,
   "id": "e9fb1565-5d86-4d60-b79c-ba43c620b85d",
   "metadata": {},
   "outputs": [],
   "source": [
    "df=df[cols].sort('ts_event')\n",
    "df_ESH2=df.filter((df['price']!=9223372036854775807) & (df['symbol']=='ESH2') & (df['bid_px_00'] < df['ask_px_00']))\n",
    "df_ESH2['ts_event']=df_ESH2.col(\"ts_event\").str.strptime(pl.Datetime, strict=False)\n",
    "\n",
    "#df_ESH2=df_ESH2['2022-02-02 09:30:00':'2022-02-02 16:00:00']\n",
    "df_ESH2"
   ]
  },
  {
   "cell_type": "code",
   "execution_count": null,
   "id": "4a7caa74-84e0-4f0b-aef1-843f2cd2751e",
   "metadata": {},
   "outputs": [],
   "source": [
    "df_ESH2.head(5)"
   ]
  },
  {
   "cell_type": "code",
   "execution_count": null,
   "id": "eb5a3daa-237d-4f02-b0d3-91700bb03740",
   "metadata": {},
   "outputs": [],
   "source": [
    "df_ESH2.iloc[2]"
   ]
  },
  {
   "cell_type": "code",
   "execution_count": null,
   "id": "b7415c0d-081f-4e1c-850a-aab4dd82f47e",
   "metadata": {},
   "outputs": [],
   "source": [
    "class BasicProp:\n",
    "    def __init__(self,df):\n",
    "        self.df=df\n",
    "        self.lvl_list=lvl_lst\n",
    "        \n",
    "    def mid_price(self):\n",
    "        mids={}\n",
    "        for lvl in self.lvl_list:\n",
    "            mids[f'mid_px_{lvl}']=(self.df[f'ask_px_{lvl}']+self.df[f'bid_px_{lvl}'])/2\n",
    "        return pd.DataFrame(mids, index=self.df.index)\n",
    "        \n",
    "    def spread(self):\n",
    "        sprd={}\n",
    "        for lvl in self.lvl_list:\n",
    "            sprd[f'spread_{lvl}']=self.df[f'ask_px_{lvl}']-self.df[f'bid_px_{lvl}']\n",
    "        return pd.DataFrame(sprd, index=self.df.index)\n",
    "\n",
    "    def rel_spread(self):\n",
    "        rel_sprd={}\n",
    "        for lvl in self.lvl_list:\n",
    "            rel_sprd[f'rel_spread_{lvl}']=2*(self.df[f'ask_px_{lvl}']-self.df[f'bid_px_{lvl}'])/(self.df[f'ask_px_{lvl}']+self.df[f'bid_px_{lvl}'])\n",
    "        return pd.DataFrame(rel_sprd, index=self.df.index)\n",
    "\n",
    "    def ob_imbl(self):\n",
    "        imbl={}\n",
    "        for lvl in self.lvl_list:\n",
    "            imbl[f'ob_imbl_{lvl}']=(self.df[f'bid_sz_{lvl}']-self.df[f'ask_sz_{lvl}'])/(self.df[f'bid_sz_{lvl}']+self.df[f'ask_sz_{lvl}'])\n",
    "        return pd.DataFrame(imbl, index=self.df.index)\n",
    "\n",
    "    def quote_return(self,case='log'):\n",
    "        rtn={}\n",
    "        for lvl in self.lvl_list:\n",
    "            mid=(self.df[f'ask_px_{lvl}']+self.df[f'bid_px_{lvl}'])/2\n",
    "            if case =='abs':\n",
    "                rtn[f'abs_return_{lvl}']=mid.diff()/mid.shift(1) # or mid.pct_change()\n",
    "            elif case =='log':\n",
    "                rtn[f'log_return_{lvl}']=np.log(mid).diff()\n",
    "        return pd.DataFrame(rtn, index=self.df.index)\n",
    "\n",
    "    def volatility(self,win=1000):\n",
    "        vol={}\n",
    "        for lvl in self.lvl_list:\n",
    "            mid=(self.df[f'ask_px_{lvl}']+self.df[f'bid_px_{lvl}'])/2\n",
    "            rtn=mid.diff()/mid.shift(1)\n",
    "            vol[f'vol_{lvl}_{win}']=rtn.rolling(window=win).std()\n",
    "        return pd.DataFrame(vol, index=self.df.index)\n"
   ]
  },
  {
   "cell_type": "code",
   "execution_count": null,
   "id": "1831645e-36e4-4712-841a-41e176585602",
   "metadata": {},
   "outputs": [],
   "source": [
    "ESH2_prop=BasicProp(df_ESH2)"
   ]
  },
  {
   "cell_type": "code",
   "execution_count": null,
   "id": "a6d8c12c-8f34-474a-a69a-e0de45e49f36",
   "metadata": {},
   "outputs": [],
   "source": [
    "def plot_time_series(df, title='Order Book Features', steps=10,):\n",
    "    cols=df.columns\n",
    "    n = len(cols)\n",
    "    ncols= 2 if n>1 else 1\n",
    "    nrows= math.ceil(n / ncols)\n",
    "     \n",
    "\n",
    "    fig, axs = plt.subplots(nrows=nrows, ncols=ncols, figsize=(5.5 * ncols, 3.5 * nrows))\n",
    "    axs = axs.flatten() if n > 1 else [axs]\n",
    "\n",
    "    lines = []\n",
    "    y_list = []\n",
    "\n",
    "    for i in range(n):\n",
    "        data = df.iloc[::steps]\n",
    "        x = data.index.values\n",
    "        y = data.values[:,i]\n",
    "        ax = axs[i]\n",
    "        ax.set_xlim(np.nanmin(x), np.nanmax(x))\n",
    "        ax.set_ylim(np.nanmin(y), np.nanmax(y))\n",
    "        ax.set_xlabel(\"Time index (sampled)\")\n",
    "        ax.set_ylabel(\"Value\")\n",
    "        ax.grid(True)\n",
    "        line, = ax.plot([], [], label=cols[i], color=bclr[i], alpha=0.5)\n",
    "        ax.legend()\n",
    "        lines.append(line)\n",
    "        y_list.append(y)    \n",
    "\n",
    "    for j in range(i + 1, len(axs)):\n",
    "        fig.delaxes(axs[j])\n",
    "\n",
    "    def update(frame):\n",
    "        for i in range(n):\n",
    "            lines[i].set_data(x[:frame], y_list[i][:frame])\n",
    "        return lines\n",
    "\n",
    "    ani = animation.FuncAnimation(fig, update, frames=len(x), interval=20, blit=False, repeat=False)\n",
    "\n",
    "    fig.suptitle(title, fontsize=16)\n",
    "    fig.tight_layout()\n",
    "    plt.show()\n",
    "\n",
    "    return ani\n"
   ]
  },
  {
   "cell_type": "code",
   "execution_count": null,
   "id": "8bbf5f1c-424d-4d27-af90-ef28b3d939ca",
   "metadata": {},
   "outputs": [],
   "source": [
    "df_combined = pd.concat([ESH2_prop.spread(), ESH2_prop.mid_price(), ESH2_prop.ob_imbl(),ESH2_prop.quote_return(),ESH2_prop.volatility()], axis=1)"
   ]
  },
  {
   "cell_type": "code",
   "execution_count": null,
   "id": "545b269b-6716-4484-a484-e47836b45dd3",
   "metadata": {},
   "outputs": [],
   "source": [
    "plot_time_series(df_combined,steps=10000)"
   ]
  },
  {
   "cell_type": "code",
   "execution_count": null,
   "id": "e7bcd698-a03f-4fa2-af4c-8857a6b5d6ea",
   "metadata": {},
   "outputs": [],
   "source": [
    "#resampling in 1s and 5s bars\n",
    "\n",
    "def time_resampler(df,delt):\n",
    "    t0=pd.Timestamp('2022-02-02 09:30:00')\n",
    "    dict_rs={}\n",
    "    dt=pd.Timedelta(seconds=delt)\n",
    "    while t0<df.index[-1]-dt:\n",
    "        df_dt=df[t0:t0+dt]\n",
    "        prop=BasicProp(df_dt)\n",
    "        avg_pr=prop.mid_price().mean().values[0]\n",
    "        avg_spread=prop.spread().mean().values[0]\n",
    "        avg_return=prop.quote_return().mean().values[0]\n",
    "        avg_imbl=prop.ob_imbl().mean().values[0]\n",
    "        dict_rs[t0+dt]=(avg_pr,avg_spread,avg_return,avg_imbl)\n",
    "        t0=t0+dt\n",
    "    df_rs=pd.DataFrame.from_dict(dict_rs,orient='index',columns=['avg_mid_price','avg_spread','avg_return','avg_imbl'])\n",
    "    df_rs.index.name='ts_event'\n",
    "    return df_rs"
   ]
  },
  {
   "cell_type": "code",
   "execution_count": null,
   "id": "c8559a83-836e-48c4-add7-d29fc726b802",
   "metadata": {},
   "outputs": [],
   "source": [
    "df1s_ESH2=time_resampler(df_ESH2,1)"
   ]
  },
  {
   "cell_type": "code",
   "execution_count": null,
   "id": "5301e25c-035f-442c-9a41-a2ddd6e111c1",
   "metadata": {},
   "outputs": [],
   "source": [
    "df1s_ESH2"
   ]
  },
  {
   "cell_type": "code",
   "execution_count": null,
   "id": "8a0e6734-f1b9-496d-a8e5-81242a668510",
   "metadata": {},
   "outputs": [],
   "source": [
    "plot_time_series(df1s_ESH2,'Average Feateures over 1s window', steps = 100)"
   ]
  },
  {
   "cell_type": "code",
   "execution_count": null,
   "id": "4209acf8-fb04-4f26-93bc-b7e183dd0902",
   "metadata": {},
   "outputs": [],
   "source": [
    "df5s_ESH2=time_resampler(df_ESH2,5)"
   ]
  },
  {
   "cell_type": "code",
   "execution_count": null,
   "id": "87ec2f0d-c597-46c3-aa2b-cae287fbad98",
   "metadata": {},
   "outputs": [],
   "source": [
    "plot_time_series(df5s_ESH2,'Average Feateures over 5s window', steps = 20)"
   ]
  },
  {
   "cell_type": "code",
   "execution_count": null,
   "id": "8fcbb1af-d657-44be-a42e-fa43087f99e4",
   "metadata": {},
   "outputs": [],
   "source": [
    "def plot_histogram(df,title='Histogram of avg quantities',bins=100):\n",
    "    cols=df.columns\n",
    "    n = len(cols)\n",
    "    ncols= 2 if n>1 else 1\n",
    "    nrows= math.ceil(n / ncols)\n",
    "     \n",
    "\n",
    "    fig, axs = plt.subplots(nrows=nrows, ncols=ncols, figsize=(5.5 * ncols, 3.5 * nrows))\n",
    "    axs = axs.flatten() if n > 1 else [axs]\n",
    "\n",
    "\n",
    "    for i in range(n):\n",
    "        ax = axs[i]\n",
    "        ax.set_xlabel(cols[i])\n",
    "        ax.set_ylabel(\"Frequency\")\n",
    "        ax.grid(True)\n",
    "        counts,bin_edges,patches = ax.hist(df[cols[i]],bins=bins, label=cols[i], color=bclr[i],edgecolor='black',alpha=0.5)\n",
    "        ax.set_xlim(np.nanmin(bin_edges), np.nanmax(bin_edges))\n",
    "        #ax.set_ylim(np.nanmin(counts), np.nanmax(counts))\n",
    "        ax.legend()\n",
    "\n",
    "    for j in range(i + 1, len(axs)):\n",
    "        fig.delaxes(axs[j])\n",
    "\n",
    "    fig.suptitle(title, fontsize=16)\n",
    "    fig.tight_layout()\n",
    "    plt.show()"
   ]
  },
  {
   "cell_type": "code",
   "execution_count": null,
   "id": "2c725f89-629a-4258-b888-c0ca010ff0ec",
   "metadata": {},
   "outputs": [],
   "source": [
    "plot_histogram(df1s_ESH2,bins=100)\n"
   ]
  },
  {
   "cell_type": "code",
   "execution_count": null,
   "id": "1b1a1374-6821-4639-9f51-0ed908b20552",
   "metadata": {},
   "outputs": [],
   "source": [
    "plot_histogram(df5s_ESH2,bins=100)"
   ]
  },
  {
   "cell_type": "code",
   "execution_count": null,
   "id": "c60a2e07-db6d-4b8e-b708-c5ed006ed22a",
   "metadata": {},
   "outputs": [],
   "source": [
    "fig=plt.figure(figsize=(6,4))\n",
    "plt.scatter(df_combined['log_return_00'][::10],df_combined['ob_imbl_00'][::10],color=bclr[0],alpha=0.5)\n",
    "plt.xlabel('OB imbalance')\n",
    "plt.ylabel('Fwd price change')\n",
    "plt.show()"
   ]
  },
  {
   "cell_type": "code",
   "execution_count": null,
   "id": "5c612cf6-e61e-44d5-bb63-7ca214440752",
   "metadata": {},
   "outputs": [],
   "source": [
    "df_combined['ob_imbl_00'].corr(df_combined['log_return_00'])"
   ]
  },
  {
   "cell_type": "code",
   "execution_count": null,
   "id": "093c46f5-acda-4f53-95b4-9387de8ebde7",
   "metadata": {},
   "outputs": [],
   "source": [
    "plot_histogram(df_combined,'Histogram of Order book',bins=100)"
   ]
  },
  {
   "cell_type": "code",
   "execution_count": null,
   "id": "1879bd1c-59ad-4522-aa3e-e94ecb749d34",
   "metadata": {},
   "outputs": [],
   "source": []
  }
 ],
 "metadata": {
  "kernelspec": {
   "display_name": "Python 3 (ipykernel)",
   "language": "python",
   "name": "python3"
  },
  "language_info": {
   "codemirror_mode": {
    "name": "ipython",
    "version": 3
   },
   "file_extension": ".py",
   "mimetype": "text/x-python",
   "name": "python",
   "nbconvert_exporter": "python",
   "pygments_lexer": "ipython3",
   "version": "3.12.2"
  }
 },
 "nbformat": 4,
 "nbformat_minor": 5
}
