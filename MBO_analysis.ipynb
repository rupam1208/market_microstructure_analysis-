{
 "cells": [
  {
   "cell_type": "code",
   "execution_count": 1,
   "id": "ab504771-faa5-45cb-9dfb-32a8902367a1",
   "metadata": {},
   "outputs": [],
   "source": [
    "from IPython.core.interactiveshell import InteractiveShell\n",
    "InteractiveShell.ast_node_interactivity = \"all\""
   ]
  },
  {
   "cell_type": "code",
   "execution_count": 2,
   "id": "ef8b4622-ea5b-4ef4-8794-c052d7a5a62e",
   "metadata": {},
   "outputs": [],
   "source": [
    "import numpy as np\n",
    "import matplotlib.pyplot as plt\n",
    "import pandas as pd\n",
    "import os\n",
    "import scipy as sp\n",
    "import databento as db \n",
    "import zstandard as zstd\n",
    "from databento import DBNStore"
   ]
  },
  {
   "cell_type": "code",
   "execution_count": 3,
   "id": "103fcc4f-67d4-4aaa-b0e4-d7fdde144f8c",
   "metadata": {},
   "outputs": [],
   "source": [
    "notebook_dir=\"/home/rupam/Rupam_pcloud/Quantitative Finance/Quant_researcher_Job/Strategic_prep/My_projects/\"\n",
    "data_path=notebook_dir+\"Mini_S_and_P_futures_data/MBO/\""
   ]
  },
  {
   "cell_type": "code",
   "execution_count": 4,
   "id": "30b5a487-f3db-47f9-9814-302be6b3c656",
   "metadata": {},
   "outputs": [
    {
     "data": {
      "text/plain": [
       "'Wednesday'"
      ]
     },
     "execution_count": 4,
     "metadata": {},
     "output_type": "execute_result"
    }
   ],
   "source": [
    "pd.Timestamp('2022-02-02').day_name()"
   ]
  },
  {
   "cell_type": "code",
   "execution_count": 5,
   "id": "17192348-972c-4597-a584-ee77c7862e2b",
   "metadata": {},
   "outputs": [],
   "source": [
    "df = pd.read_parquet(data_path+next(f for f in os.listdir(data_path) if '20220202' in f),engine=\"pyarrow\")"
   ]
  },
  {
   "cell_type": "code",
   "execution_count": 6,
   "id": "ce3b1987-0ca2-421c-bc1f-0306e838bac1",
   "metadata": {},
   "outputs": [],
   "source": [
    "# Basic Inspection\n",
    "#df.shape  # shape of the datafarame\n",
    "#df.head(2) # First two rows\n",
    "#df.tail(1) # Last one row\n",
    "#df.columns # Name of the columns\n",
    "#df.info # Info about the dataframe\n",
    "#df.dtypes # Data-types of each columns\n",
    "#df.describe() # Descriptive statistics for numerical columns\n",
    "#df.memory_usage()\n",
    "# df.index # Gives the index of the dataframe "
   ]
  },
  {
   "cell_type": "code",
   "execution_count": 7,
   "id": "973e64ef-aeef-466d-85fd-29c2c3ed90e8",
   "metadata": {},
   "outputs": [],
   "source": [
    "df=df.set_index('ts_event')\n",
    "df=df.sort_values('ts_event')"
   ]
  },
  {
   "cell_type": "code",
   "execution_count": 8,
   "id": "598448fb-9a2d-44d0-831b-8f2724db87b1",
   "metadata": {},
   "outputs": [
    {
     "data": {
      "text/html": [
       "<div>\n",
       "<style scoped>\n",
       "    .dataframe tbody tr th:only-of-type {\n",
       "        vertical-align: middle;\n",
       "    }\n",
       "\n",
       "    .dataframe tbody tr th {\n",
       "        vertical-align: top;\n",
       "    }\n",
       "\n",
       "    .dataframe thead th {\n",
       "        text-align: right;\n",
       "    }\n",
       "</style>\n",
       "<table border=\"1\" class=\"dataframe\">\n",
       "  <thead>\n",
       "    <tr style=\"text-align: right;\">\n",
       "      <th></th>\n",
       "      <th>rtype</th>\n",
       "      <th>publisher_id</th>\n",
       "      <th>instrument_id</th>\n",
       "      <th>action</th>\n",
       "      <th>side</th>\n",
       "      <th>price</th>\n",
       "      <th>size</th>\n",
       "      <th>channel_id</th>\n",
       "      <th>order_id</th>\n",
       "      <th>flags</th>\n",
       "      <th>ts_in_delta</th>\n",
       "      <th>sequence</th>\n",
       "      <th>symbol</th>\n",
       "    </tr>\n",
       "    <tr>\n",
       "      <th>ts_event</th>\n",
       "      <th></th>\n",
       "      <th></th>\n",
       "      <th></th>\n",
       "      <th></th>\n",
       "      <th></th>\n",
       "      <th></th>\n",
       "      <th></th>\n",
       "      <th></th>\n",
       "      <th></th>\n",
       "      <th></th>\n",
       "      <th></th>\n",
       "      <th></th>\n",
       "      <th></th>\n",
       "    </tr>\n",
       "  </thead>\n",
       "  <tbody>\n",
       "    <tr>\n",
       "      <th>1643572806508678951</th>\n",
       "      <td>160</td>\n",
       "      <td>1</td>\n",
       "      <td>27962</td>\n",
       "      <td>R</td>\n",
       "      <td>N</td>\n",
       "      <td>9223372036854775807</td>\n",
       "      <td>0</td>\n",
       "      <td>0</td>\n",
       "      <td>0</td>\n",
       "      <td>40</td>\n",
       "      <td>0</td>\n",
       "      <td>0</td>\n",
       "      <td>ESH2-ESH3</td>\n",
       "    </tr>\n",
       "    <tr>\n",
       "      <th>1643572806508678951</th>\n",
       "      <td>160</td>\n",
       "      <td>1</td>\n",
       "      <td>5782</td>\n",
       "      <td>A</td>\n",
       "      <td>A</td>\n",
       "      <td>4629500000000</td>\n",
       "      <td>3</td>\n",
       "      <td>0</td>\n",
       "      <td>649372590295</td>\n",
       "      <td>40</td>\n",
       "      <td>0</td>\n",
       "      <td>1652</td>\n",
       "      <td>ESH2</td>\n",
       "    </tr>\n",
       "    <tr>\n",
       "      <th>1643572806508678951</th>\n",
       "      <td>160</td>\n",
       "      <td>1</td>\n",
       "      <td>5782</td>\n",
       "      <td>A</td>\n",
       "      <td>A</td>\n",
       "      <td>4628750000000</td>\n",
       "      <td>3</td>\n",
       "      <td>0</td>\n",
       "      <td>649372589246</td>\n",
       "      <td>40</td>\n",
       "      <td>0</td>\n",
       "      <td>1652</td>\n",
       "      <td>ESH2</td>\n",
       "    </tr>\n",
       "    <tr>\n",
       "      <th>1643572806508678951</th>\n",
       "      <td>160</td>\n",
       "      <td>1</td>\n",
       "      <td>5782</td>\n",
       "      <td>A</td>\n",
       "      <td>A</td>\n",
       "      <td>4628000000000</td>\n",
       "      <td>3</td>\n",
       "      <td>0</td>\n",
       "      <td>649372588687</td>\n",
       "      <td>40</td>\n",
       "      <td>0</td>\n",
       "      <td>1652</td>\n",
       "      <td>ESH2</td>\n",
       "    </tr>\n",
       "    <tr>\n",
       "      <th>1643572806508678951</th>\n",
       "      <td>160</td>\n",
       "      <td>1</td>\n",
       "      <td>5782</td>\n",
       "      <td>A</td>\n",
       "      <td>A</td>\n",
       "      <td>4627250000000</td>\n",
       "      <td>3</td>\n",
       "      <td>0</td>\n",
       "      <td>649372587740</td>\n",
       "      <td>40</td>\n",
       "      <td>0</td>\n",
       "      <td>1652</td>\n",
       "      <td>ESH2</td>\n",
       "    </tr>\n",
       "  </tbody>\n",
       "</table>\n",
       "</div>"
      ],
      "text/plain": [
       "                     rtype  publisher_id  instrument_id action side  \\\n",
       "ts_event                                                              \n",
       "1643572806508678951    160             1          27962      R    N   \n",
       "1643572806508678951    160             1           5782      A    A   \n",
       "1643572806508678951    160             1           5782      A    A   \n",
       "1643572806508678951    160             1           5782      A    A   \n",
       "1643572806508678951    160             1           5782      A    A   \n",
       "\n",
       "                                   price  size  channel_id      order_id  \\\n",
       "ts_event                                                                   \n",
       "1643572806508678951  9223372036854775807     0           0             0   \n",
       "1643572806508678951        4629500000000     3           0  649372590295   \n",
       "1643572806508678951        4628750000000     3           0  649372589246   \n",
       "1643572806508678951        4628000000000     3           0  649372588687   \n",
       "1643572806508678951        4627250000000     3           0  649372587740   \n",
       "\n",
       "                     flags  ts_in_delta  sequence     symbol  \n",
       "ts_event                                                      \n",
       "1643572806508678951     40            0         0  ESH2-ESH3  \n",
       "1643572806508678951     40            0      1652       ESH2  \n",
       "1643572806508678951     40            0      1652       ESH2  \n",
       "1643572806508678951     40            0      1652       ESH2  \n",
       "1643572806508678951     40            0      1652       ESH2  "
      ]
     },
     "execution_count": 8,
     "metadata": {},
     "output_type": "execute_result"
    }
   ],
   "source": [
    "df.head(5)"
   ]
  },
  {
   "cell_type": "code",
   "execution_count": 9,
   "id": "a75e9be5-5c55-4cb4-96ac-c4337877c36e",
   "metadata": {},
   "outputs": [],
   "source": [
    "df=df[(df['price']!=9223372036854775807) & (df['symbol']=='ESH2') & (df['side'].isin(['A','B']))]"
   ]
  },
  {
   "cell_type": "code",
   "execution_count": 10,
   "id": "363b2100-377b-4885-afcc-4d72ec3c5142",
   "metadata": {},
   "outputs": [
    {
     "data": {
      "text/html": [
       "<div>\n",
       "<style scoped>\n",
       "    .dataframe tbody tr th:only-of-type {\n",
       "        vertical-align: middle;\n",
       "    }\n",
       "\n",
       "    .dataframe tbody tr th {\n",
       "        vertical-align: top;\n",
       "    }\n",
       "\n",
       "    .dataframe thead th {\n",
       "        text-align: right;\n",
       "    }\n",
       "</style>\n",
       "<table border=\"1\" class=\"dataframe\">\n",
       "  <thead>\n",
       "    <tr style=\"text-align: right;\">\n",
       "      <th></th>\n",
       "      <th>rtype</th>\n",
       "      <th>publisher_id</th>\n",
       "      <th>instrument_id</th>\n",
       "      <th>action</th>\n",
       "      <th>side</th>\n",
       "      <th>price</th>\n",
       "      <th>size</th>\n",
       "      <th>channel_id</th>\n",
       "      <th>order_id</th>\n",
       "      <th>flags</th>\n",
       "      <th>ts_in_delta</th>\n",
       "      <th>sequence</th>\n",
       "      <th>symbol</th>\n",
       "    </tr>\n",
       "    <tr>\n",
       "      <th>ts_event</th>\n",
       "      <th></th>\n",
       "      <th></th>\n",
       "      <th></th>\n",
       "      <th></th>\n",
       "      <th></th>\n",
       "      <th></th>\n",
       "      <th></th>\n",
       "      <th></th>\n",
       "      <th></th>\n",
       "      <th></th>\n",
       "      <th></th>\n",
       "      <th></th>\n",
       "      <th></th>\n",
       "    </tr>\n",
       "  </thead>\n",
       "  <tbody>\n",
       "    <tr>\n",
       "      <th>1643572806508678951</th>\n",
       "      <td>160</td>\n",
       "      <td>1</td>\n",
       "      <td>5782</td>\n",
       "      <td>A</td>\n",
       "      <td>A</td>\n",
       "      <td>4629500000000</td>\n",
       "      <td>3</td>\n",
       "      <td>0</td>\n",
       "      <td>649372590295</td>\n",
       "      <td>40</td>\n",
       "      <td>0</td>\n",
       "      <td>1652</td>\n",
       "      <td>ESH2</td>\n",
       "    </tr>\n",
       "    <tr>\n",
       "      <th>1643572806508678951</th>\n",
       "      <td>160</td>\n",
       "      <td>1</td>\n",
       "      <td>5782</td>\n",
       "      <td>A</td>\n",
       "      <td>A</td>\n",
       "      <td>4628750000000</td>\n",
       "      <td>3</td>\n",
       "      <td>0</td>\n",
       "      <td>649372589246</td>\n",
       "      <td>40</td>\n",
       "      <td>0</td>\n",
       "      <td>1652</td>\n",
       "      <td>ESH2</td>\n",
       "    </tr>\n",
       "    <tr>\n",
       "      <th>1643572806508678951</th>\n",
       "      <td>160</td>\n",
       "      <td>1</td>\n",
       "      <td>5782</td>\n",
       "      <td>A</td>\n",
       "      <td>A</td>\n",
       "      <td>4628000000000</td>\n",
       "      <td>3</td>\n",
       "      <td>0</td>\n",
       "      <td>649372588687</td>\n",
       "      <td>40</td>\n",
       "      <td>0</td>\n",
       "      <td>1652</td>\n",
       "      <td>ESH2</td>\n",
       "    </tr>\n",
       "    <tr>\n",
       "      <th>1643572806508678951</th>\n",
       "      <td>160</td>\n",
       "      <td>1</td>\n",
       "      <td>5782</td>\n",
       "      <td>A</td>\n",
       "      <td>A</td>\n",
       "      <td>4627250000000</td>\n",
       "      <td>3</td>\n",
       "      <td>0</td>\n",
       "      <td>649372587740</td>\n",
       "      <td>40</td>\n",
       "      <td>0</td>\n",
       "      <td>1652</td>\n",
       "      <td>ESH2</td>\n",
       "    </tr>\n",
       "    <tr>\n",
       "      <th>1643572806508678951</th>\n",
       "      <td>160</td>\n",
       "      <td>1</td>\n",
       "      <td>5782</td>\n",
       "      <td>A</td>\n",
       "      <td>A</td>\n",
       "      <td>4627000000000</td>\n",
       "      <td>1</td>\n",
       "      <td>0</td>\n",
       "      <td>649305641126</td>\n",
       "      <td>40</td>\n",
       "      <td>0</td>\n",
       "      <td>1606</td>\n",
       "      <td>ESH2</td>\n",
       "    </tr>\n",
       "  </tbody>\n",
       "</table>\n",
       "</div>"
      ],
      "text/plain": [
       "                     rtype  publisher_id  instrument_id action side  \\\n",
       "ts_event                                                              \n",
       "1643572806508678951    160             1           5782      A    A   \n",
       "1643572806508678951    160             1           5782      A    A   \n",
       "1643572806508678951    160             1           5782      A    A   \n",
       "1643572806508678951    160             1           5782      A    A   \n",
       "1643572806508678951    160             1           5782      A    A   \n",
       "\n",
       "                             price  size  channel_id      order_id  flags  \\\n",
       "ts_event                                                                    \n",
       "1643572806508678951  4629500000000     3           0  649372590295     40   \n",
       "1643572806508678951  4628750000000     3           0  649372589246     40   \n",
       "1643572806508678951  4628000000000     3           0  649372588687     40   \n",
       "1643572806508678951  4627250000000     3           0  649372587740     40   \n",
       "1643572806508678951  4627000000000     1           0  649305641126     40   \n",
       "\n",
       "                     ts_in_delta  sequence symbol  \n",
       "ts_event                                           \n",
       "1643572806508678951            0      1652   ESH2  \n",
       "1643572806508678951            0      1652   ESH2  \n",
       "1643572806508678951            0      1652   ESH2  \n",
       "1643572806508678951            0      1652   ESH2  \n",
       "1643572806508678951            0      1606   ESH2  "
      ]
     },
     "execution_count": 10,
     "metadata": {},
     "output_type": "execute_result"
    }
   ],
   "source": [
    "df.head(5)"
   ]
  },
  {
   "cell_type": "code",
   "execution_count": 11,
   "id": "775c8ba8-e67f-4fc2-9bf4-50938df5e8d6",
   "metadata": {},
   "outputs": [],
   "source": [
    "# pd.to_datetime(df.index) # For converting into timezones"
   ]
  },
  {
   "cell_type": "code",
   "execution_count": 12,
   "id": "38369152-6617-4016-afa0-adf0d0d42dc9",
   "metadata": {},
   "outputs": [],
   "source": [
    "df_ESH2=df[['action','side','price','size','order_id']]"
   ]
  },
  {
   "cell_type": "code",
   "execution_count": 13,
   "id": "4a7caa74-84e0-4f0b-aef1-843f2cd2751e",
   "metadata": {},
   "outputs": [
    {
     "data": {
      "text/html": [
       "<div>\n",
       "<style scoped>\n",
       "    .dataframe tbody tr th:only-of-type {\n",
       "        vertical-align: middle;\n",
       "    }\n",
       "\n",
       "    .dataframe tbody tr th {\n",
       "        vertical-align: top;\n",
       "    }\n",
       "\n",
       "    .dataframe thead th {\n",
       "        text-align: right;\n",
       "    }\n",
       "</style>\n",
       "<table border=\"1\" class=\"dataframe\">\n",
       "  <thead>\n",
       "    <tr style=\"text-align: right;\">\n",
       "      <th></th>\n",
       "      <th>action</th>\n",
       "      <th>side</th>\n",
       "      <th>price</th>\n",
       "      <th>size</th>\n",
       "      <th>order_id</th>\n",
       "    </tr>\n",
       "    <tr>\n",
       "      <th>ts_event</th>\n",
       "      <th></th>\n",
       "      <th></th>\n",
       "      <th></th>\n",
       "      <th></th>\n",
       "      <th></th>\n",
       "    </tr>\n",
       "  </thead>\n",
       "  <tbody>\n",
       "    <tr>\n",
       "      <th>1643572806508678951</th>\n",
       "      <td>A</td>\n",
       "      <td>A</td>\n",
       "      <td>4629500000000</td>\n",
       "      <td>3</td>\n",
       "      <td>649372590295</td>\n",
       "    </tr>\n",
       "    <tr>\n",
       "      <th>1643572806508678951</th>\n",
       "      <td>A</td>\n",
       "      <td>A</td>\n",
       "      <td>4628750000000</td>\n",
       "      <td>3</td>\n",
       "      <td>649372589246</td>\n",
       "    </tr>\n",
       "  </tbody>\n",
       "</table>\n",
       "</div>"
      ],
      "text/plain": [
       "                    action side          price  size      order_id\n",
       "ts_event                                                          \n",
       "1643572806508678951      A    A  4629500000000     3  649372590295\n",
       "1643572806508678951      A    A  4628750000000     3  649372589246"
      ]
     },
     "execution_count": 13,
     "metadata": {},
     "output_type": "execute_result"
    }
   ],
   "source": [
    "df_ESH2.head(2)"
   ]
  },
  {
   "cell_type": "code",
   "execution_count": 14,
   "id": "fa90626a-3099-4d17-a873-47806787b155",
   "metadata": {},
   "outputs": [
    {
     "data": {
      "text/plain": [
       "Index(['action', 'side', 'price', 'size', 'order_id'], dtype='object')"
      ]
     },
     "execution_count": 14,
     "metadata": {},
     "output_type": "execute_result"
    }
   ],
   "source": [
    "df_ESH2.columns"
   ]
  },
  {
   "cell_type": "code",
   "execution_count": 15,
   "id": "afcf68f5-59d3-4459-8710-826df0b60523",
   "metadata": {},
   "outputs": [],
   "source": [
    "# Selection of rows and columns\n",
    "\n",
    "\n",
    "#df['ts_event'] # Selecting one column by label\n",
    "#df[['ts_event','rtype']] # Multiple columns\n",
    "#df.iloc[1]  # Selcting column by integer position\n",
    "#df.loc['2022-02-01 00:00:00+00:00']  # Selecting row by label\n"
   ]
  },
  {
   "cell_type": "code",
   "execution_count": 16,
   "id": "8f624356-a529-4f2b-8d72-bc9ae2e58b71",
   "metadata": {},
   "outputs": [],
   "source": [
    "df_ESH2.index=pd.to_datetime(df_ESH2.index) # converting to real date and time stamps"
   ]
  },
  {
   "cell_type": "code",
   "execution_count": 17,
   "id": "05a98adf-f7b9-4dec-b6a4-c669487da061",
   "metadata": {},
   "outputs": [],
   "source": [
    "#pd.Timedelta(minutes=30)+pd.Timedelta(minutes=60000)"
   ]
  },
  {
   "cell_type": "code",
   "execution_count": 18,
   "id": "7ede04ab-6aaf-4c4a-85ad-b52b8ab5e685",
   "metadata": {},
   "outputs": [],
   "source": [
    "def interval_events(start_time, intrvl_in_mins):\n",
    "    return df_ESH2.loc[start_time:pd.Timestamp(start_time)+pd.Timedelta(minutes=intrvl_in_mins)]"
   ]
  },
  {
   "cell_type": "code",
   "execution_count": 19,
   "id": "c630d379-243d-43b8-8609-8dd273ffdd7c",
   "metadata": {},
   "outputs": [],
   "source": [
    "df_1m=interval_events('2022-02-02 09:00:00',1)"
   ]
  },
  {
   "cell_type": "code",
   "execution_count": 20,
   "id": "3fa28e3e-0555-4cc5-b9e1-aa75f047b09c",
   "metadata": {},
   "outputs": [],
   "source": [
    "#df_half[df_half['action']=='M']['order_id'].value_counts().idxmax()\n",
    "#df_half[df_half['action']=='M']['order_id'].value_counts().index\n",
    "#df_half[df_half['action']=='M']['order_id'].value_counts().values"
   ]
  },
  {
   "cell_type": "code",
   "execution_count": 21,
   "id": "b918bbe2-0810-47cb-992e-fe031edd6934",
   "metadata": {},
   "outputs": [],
   "source": [
    "#max_M_order=df_half[df_half['order_id']==df_half[df_half['action']=='M']['order_id'].value_counts().index[0]]"
   ]
  },
  {
   "cell_type": "code",
   "execution_count": 22,
   "id": "3f2eda0e-a740-4887-9145-84e425cb3754",
   "metadata": {},
   "outputs": [],
   "source": [
    "#max_M_order['price'].iloc[::5].plot()"
   ]
  },
  {
   "cell_type": "code",
   "execution_count": 23,
   "id": "feec75f0-a201-4f35-9898-473b4ccf9a97",
   "metadata": {},
   "outputs": [],
   "source": [
    "#df_bid[df_bid['order_id']==df_bid[df_bid['action']=='T']['order_id'].value_counts().index[0]]"
   ]
  },
  {
   "cell_type": "code",
   "execution_count": 24,
   "id": "865bcccb-75f8-4902-a9c8-583908fe88d2",
   "metadata": {},
   "outputs": [],
   "source": [
    "df_bid=df_1m[df_1m['side']=='B']\n",
    "df_ask=df_1m[df_1m['side']=='A']"
   ]
  },
  {
   "cell_type": "code",
   "execution_count": 25,
   "id": "0d4c8ba7-974c-4147-bfbc-af85a61635d4",
   "metadata": {},
   "outputs": [
    {
     "data": {
      "text/plain": [
       "4555750000000"
      ]
     },
     "execution_count": 25,
     "metadata": {},
     "output_type": "execute_result"
    },
    {
     "data": {
      "text/plain": [
       "4554250000000"
      ]
     },
     "execution_count": 25,
     "metadata": {},
     "output_type": "execute_result"
    }
   ],
   "source": [
    "df_bid['price'].max()\n",
    "df_ask['price'].min()"
   ]
  },
  {
   "cell_type": "code",
   "execution_count": 26,
   "id": "d3f0438e-7cee-4f6f-b493-cc41d84f0cd2",
   "metadata": {},
   "outputs": [],
   "source": [
    "if pd.Timestamp('2022-02-02 09:02:00')<pd.Timestamp('2022-02-02 09:01:00'):\n",
    "    print(True)"
   ]
  },
  {
   "cell_type": "code",
   "execution_count": 27,
   "id": "30789189-e453-4b95-bb24-04bd2f8aefb8",
   "metadata": {},
   "outputs": [
    {
     "data": {
      "text/plain": [
       "Timedelta('0 days 00:00:00.100000')"
      ]
     },
     "execution_count": 27,
     "metadata": {},
     "output_type": "execute_result"
    }
   ],
   "source": [
    "pd.Timedelta(milliseconds=100)"
   ]
  },
  {
   "cell_type": "code",
   "execution_count": 28,
   "id": "7f6d977a-4381-457d-8ade-600b311e1a43",
   "metadata": {},
   "outputs": [
    {
     "data": {
      "text/plain": [
       "array([ 1,  7,  8,  2, 15,  5,  6,  3], dtype=uint32)"
      ]
     },
     "execution_count": 28,
     "metadata": {},
     "output_type": "execute_result"
    }
   ],
   "source": [
    "df_bid[df_bid['action']=='F']['size'].unique()"
   ]
  },
  {
   "cell_type": "code",
   "execution_count": 29,
   "id": "d0f7472f-0855-481b-bb9d-079a8d52baad",
   "metadata": {},
   "outputs": [],
   "source": [
    "order_book={}\n",
    "def recon_ob(df,order_book):\n",
    "    L=0;M=0;C=0;\n",
    "    for i in range(len(df.index)):\n",
    "        row=df.iloc[i]\n",
    "        od_id=row['order_id']\n",
    "        price=row['price']\n",
    "        size=row['size']\n",
    "        size=int(size)\n",
    "        if row['action']=='A':\n",
    "            L=L+size\n",
    "            order_book[od_id]=(price,size)\n",
    "        if row['action']=='M':\n",
    "            if od_id in order_book:\n",
    "                prev_price, prev_size=order_book[od_id]\n",
    "                prev_size=int(prev_size)\n",
    "                if price==prev_price:\n",
    "                    M=M-(prev_size-size)\n",
    "                elif price>prev_price:\n",
    "                    M=M+size\n",
    "                else:\n",
    "                    M=M-prev_size\n",
    "                order_book[od_id]=(price,size)\n",
    "        if row['action']=='C':\n",
    "            if od_id in order_book:\n",
    "                prev_price, prev_size=order_book[od_id]\n",
    "                prev_size=int(prev_size)\n",
    "                if size==prev_size:\n",
    "                    C=C-size\n",
    "                    del order_book[od_id]\n",
    "                else: \n",
    "                    rem_size=prev_size-size\n",
    "                    C=C-size\n",
    "                    order_book[od_id]=(prev_price,rem_size)\n",
    "    ofi=L+M+C\n",
    "    return ofi, order_book"
   ]
  },
  {
   "cell_type": "code",
   "execution_count": 30,
   "id": "4d947f12-2f0f-4b86-804c-f12e744107b2",
   "metadata": {},
   "outputs": [],
   "source": [
    "order_book={}\n",
    "ofi, ob=recon_ob(df_bid,order_book)"
   ]
  },
  {
   "cell_type": "code",
   "execution_count": 31,
   "id": "e2ab6fcb-16d2-4299-bb91-d5a3a8288f07",
   "metadata": {},
   "outputs": [
    {
     "data": {
      "text/plain": [
       "4555250000000"
      ]
     },
     "execution_count": 31,
     "metadata": {},
     "output_type": "execute_result"
    }
   ],
   "source": [
    "np.array(list(ob.values()))[:,0].max()"
   ]
  },
  {
   "cell_type": "code",
   "execution_count": 32,
   "id": "1f1125d9-b619-4540-bd13-a304b9ed2510",
   "metadata": {},
   "outputs": [
    {
     "data": {
      "text/plain": [
       "706"
      ]
     },
     "execution_count": 32,
     "metadata": {},
     "output_type": "execute_result"
    }
   ],
   "source": [
    "ofi"
   ]
  },
  {
   "cell_type": "code",
   "execution_count": 33,
   "id": "4765c1f0-08fc-4b97-923f-1c5d341f2788",
   "metadata": {},
   "outputs": [
    {
     "data": {
      "text/html": [
       "<div>\n",
       "<style scoped>\n",
       "    .dataframe tbody tr th:only-of-type {\n",
       "        vertical-align: middle;\n",
       "    }\n",
       "\n",
       "    .dataframe tbody tr th {\n",
       "        vertical-align: top;\n",
       "    }\n",
       "\n",
       "    .dataframe thead th {\n",
       "        text-align: right;\n",
       "    }\n",
       "</style>\n",
       "<table border=\"1\" class=\"dataframe\">\n",
       "  <thead>\n",
       "    <tr style=\"text-align: right;\">\n",
       "      <th></th>\n",
       "      <th>action</th>\n",
       "      <th>side</th>\n",
       "      <th>price</th>\n",
       "      <th>size</th>\n",
       "      <th>order_id</th>\n",
       "    </tr>\n",
       "    <tr>\n",
       "      <th>ts_event</th>\n",
       "      <th></th>\n",
       "      <th></th>\n",
       "      <th></th>\n",
       "      <th></th>\n",
       "      <th></th>\n",
       "    </tr>\n",
       "  </thead>\n",
       "  <tbody>\n",
       "    <tr>\n",
       "      <th>2022-01-30 20:00:06.508678951</th>\n",
       "      <td>A</td>\n",
       "      <td>B</td>\n",
       "      <td>1000000000</td>\n",
       "      <td>1</td>\n",
       "      <td>649348941388</td>\n",
       "    </tr>\n",
       "    <tr>\n",
       "      <th>2022-01-30 20:00:06.508678951</th>\n",
       "      <td>A</td>\n",
       "      <td>B</td>\n",
       "      <td>46000000000</td>\n",
       "      <td>1</td>\n",
       "      <td>649149849085</td>\n",
       "    </tr>\n",
       "    <tr>\n",
       "      <th>2022-01-30 20:00:06.508678951</th>\n",
       "      <td>A</td>\n",
       "      <td>B</td>\n",
       "      <td>200000000000</td>\n",
       "      <td>1</td>\n",
       "      <td>649348158992</td>\n",
       "    </tr>\n",
       "    <tr>\n",
       "      <th>2022-01-30 20:00:06.508678951</th>\n",
       "      <td>A</td>\n",
       "      <td>B</td>\n",
       "      <td>368500000000</td>\n",
       "      <td>1</td>\n",
       "      <td>649232504248</td>\n",
       "    </tr>\n",
       "    <tr>\n",
       "      <th>2022-01-30 20:00:06.508678951</th>\n",
       "      <td>A</td>\n",
       "      <td>B</td>\n",
       "      <td>395500000000</td>\n",
       "      <td>1</td>\n",
       "      <td>649242936814</td>\n",
       "    </tr>\n",
       "    <tr>\n",
       "      <th>...</th>\n",
       "      <td>...</td>\n",
       "      <td>...</td>\n",
       "      <td>...</td>\n",
       "      <td>...</td>\n",
       "      <td>...</td>\n",
       "    </tr>\n",
       "    <tr>\n",
       "      <th>2022-02-02 23:59:58.320555123</th>\n",
       "      <td>M</td>\n",
       "      <td>B</td>\n",
       "      <td>4530500000000</td>\n",
       "      <td>1</td>\n",
       "      <td>649394311712</td>\n",
       "    </tr>\n",
       "    <tr>\n",
       "      <th>2022-02-02 23:59:58.320896345</th>\n",
       "      <td>M</td>\n",
       "      <td>B</td>\n",
       "      <td>4528250000000</td>\n",
       "      <td>1</td>\n",
       "      <td>649394289283</td>\n",
       "    </tr>\n",
       "    <tr>\n",
       "      <th>2022-02-02 23:59:58.478806097</th>\n",
       "      <td>A</td>\n",
       "      <td>B</td>\n",
       "      <td>4530500000000</td>\n",
       "      <td>1</td>\n",
       "      <td>649394312494</td>\n",
       "    </tr>\n",
       "    <tr>\n",
       "      <th>2022-02-02 23:59:58.499178553</th>\n",
       "      <td>M</td>\n",
       "      <td>B</td>\n",
       "      <td>4530250000000</td>\n",
       "      <td>1</td>\n",
       "      <td>649394311913</td>\n",
       "    </tr>\n",
       "    <tr>\n",
       "      <th>2022-02-02 23:59:58.748178755</th>\n",
       "      <td>M</td>\n",
       "      <td>B</td>\n",
       "      <td>4529750000000</td>\n",
       "      <td>1</td>\n",
       "      <td>649394311955</td>\n",
       "    </tr>\n",
       "  </tbody>\n",
       "</table>\n",
       "<p>6254009 rows × 5 columns</p>\n",
       "</div>"
      ],
      "text/plain": [
       "                              action side          price  size      order_id\n",
       "ts_event                                                                    \n",
       "2022-01-30 20:00:06.508678951      A    B     1000000000     1  649348941388\n",
       "2022-01-30 20:00:06.508678951      A    B    46000000000     1  649149849085\n",
       "2022-01-30 20:00:06.508678951      A    B   200000000000     1  649348158992\n",
       "2022-01-30 20:00:06.508678951      A    B   368500000000     1  649232504248\n",
       "2022-01-30 20:00:06.508678951      A    B   395500000000     1  649242936814\n",
       "...                              ...  ...            ...   ...           ...\n",
       "2022-02-02 23:59:58.320555123      M    B  4530500000000     1  649394311712\n",
       "2022-02-02 23:59:58.320896345      M    B  4528250000000     1  649394289283\n",
       "2022-02-02 23:59:58.478806097      A    B  4530500000000     1  649394312494\n",
       "2022-02-02 23:59:58.499178553      M    B  4530250000000     1  649394311913\n",
       "2022-02-02 23:59:58.748178755      M    B  4529750000000     1  649394311955\n",
       "\n",
       "[6254009 rows x 5 columns]"
      ]
     },
     "execution_count": 33,
     "metadata": {},
     "output_type": "execute_result"
    }
   ],
   "source": [
    "df_ESH2[df_ESH2['side']=='B']"
   ]
  },
  {
   "cell_type": "code",
   "execution_count": 40,
   "id": "1288f613-99b0-431e-bdd5-2b97a4bc4aa0",
   "metadata": {},
   "outputs": [],
   "source": [
    "def recon_l0(df,t1,t2,dt):\n",
    "    df_t1t2=df.loc[t1:t2]\n",
    "    t1=pd.Timestamp(t1)\n",
    "    t2=pd.Timestamp(t2)\n",
    "    dt=pd.Timedelta(seconds=dt)\n",
    "    l0_book={}\n",
    "    order_book_bid={}\n",
    "    order_book_ask={}\n",
    "    while t1+dt <= t2:\n",
    "        df_dt=df_t1t2[t1:t1+dt]\n",
    "        df_dt_bid=df_dt[df_dt['side']=='B']\n",
    "        ofi_bid, order_book_bid=recon_ob(df_dt_bid,order_book_bid)\n",
    "        ob_arr_bid=np.array(list(order_book_bid.values()))\n",
    "        \n",
    "        df_dt_ask=df_dt[df_dt['side']=='A']\n",
    "        ofi_ask, order_book_ask=recon_ob(df_dt_ask,order_book_ask)\n",
    "        ob_arr_ask=np.array(list(order_book_ask.values()))\n",
    "\n",
    "        if len(ob_arr_bid)>0 and len(ob_arr_ask)>0:\n",
    "            best_bid=ob_arr_bid[:,0].max()\n",
    "            best_ask=ob_arr_ask[:,0].min()\n",
    "            mid_price=(best_bid+best_ask)/2\n",
    "            size_bid=ob_arr_bid[ob_arr_bid[:,0]==best_bid][:,1].sum()\n",
    "            size_ask=ob_arr_ask[ob_arr_ask[:,0]==best_ask][:,1].sum()\n",
    "            ofi=(ofi_bid+ofi_ask)/2\n",
    "            l0_book[t1]=(best_bid,best_ask,size_bid,size_ask,mid_price,ofi)\n",
    "        t1=t1+dt\n",
    "    df_l0=pd.DataFrame.from_dict(l0_book,orient='index',columns=['best_bid','best_ask','size_bid','size_ask','mid_price','OFI'])\n",
    "    df_l0.index.name='ts_event'\n",
    "    return df_l0"
   ]
  },
  {
   "cell_type": "code",
   "execution_count": 64,
   "id": "03edae03-c48d-48e3-a11a-5d9304040123",
   "metadata": {},
   "outputs": [],
   "source": [
    "df_l0=recon_l0(df_ESH2,'2022-02-02 09:00:00','2022-02-02 09:30:00',10)"
   ]
  },
  {
   "cell_type": "code",
   "execution_count": 97,
   "id": "56488aa7-b9f0-436c-b468-fda462b979fe",
   "metadata": {},
   "outputs": [
    {
     "data": {
      "text/html": [
       "<div>\n",
       "<style scoped>\n",
       "    .dataframe tbody tr th:only-of-type {\n",
       "        vertical-align: middle;\n",
       "    }\n",
       "\n",
       "    .dataframe tbody tr th {\n",
       "        vertical-align: top;\n",
       "    }\n",
       "\n",
       "    .dataframe thead th {\n",
       "        text-align: right;\n",
       "    }\n",
       "</style>\n",
       "<table border=\"1\" class=\"dataframe\">\n",
       "  <thead>\n",
       "    <tr style=\"text-align: right;\">\n",
       "      <th></th>\n",
       "      <th>best_bid</th>\n",
       "      <th>best_ask</th>\n",
       "      <th>size_bid</th>\n",
       "      <th>size_ask</th>\n",
       "      <th>mid_price</th>\n",
       "      <th>OFI</th>\n",
       "    </tr>\n",
       "    <tr>\n",
       "      <th>ts_event</th>\n",
       "      <th></th>\n",
       "      <th></th>\n",
       "      <th></th>\n",
       "      <th></th>\n",
       "      <th></th>\n",
       "      <th></th>\n",
       "    </tr>\n",
       "  </thead>\n",
       "  <tbody>\n",
       "    <tr>\n",
       "      <th>2022-02-02 09:00:00</th>\n",
       "      <td>4555250000000</td>\n",
       "      <td>4555500000000</td>\n",
       "      <td>7</td>\n",
       "      <td>2</td>\n",
       "      <td>4.555375e+12</td>\n",
       "      <td>NaN</td>\n",
       "    </tr>\n",
       "    <tr>\n",
       "      <th>2022-02-02 09:00:10</th>\n",
       "      <td>4554750000000</td>\n",
       "      <td>4555000000000</td>\n",
       "      <td>5</td>\n",
       "      <td>19</td>\n",
       "      <td>4.554875e+12</td>\n",
       "      <td>288.5</td>\n",
       "    </tr>\n",
       "    <tr>\n",
       "      <th>2022-02-02 09:00:20</th>\n",
       "      <td>4555500000000</td>\n",
       "      <td>4555750000000</td>\n",
       "      <td>14</td>\n",
       "      <td>4</td>\n",
       "      <td>4.555625e+12</td>\n",
       "      <td>133.0</td>\n",
       "    </tr>\n",
       "    <tr>\n",
       "      <th>2022-02-02 09:00:30</th>\n",
       "      <td>4555000000000</td>\n",
       "      <td>4555500000000</td>\n",
       "      <td>24</td>\n",
       "      <td>13</td>\n",
       "      <td>4.555250e+12</td>\n",
       "      <td>70.0</td>\n",
       "    </tr>\n",
       "    <tr>\n",
       "      <th>2022-02-02 09:00:40</th>\n",
       "      <td>4555250000000</td>\n",
       "      <td>4555500000000</td>\n",
       "      <td>12</td>\n",
       "      <td>12</td>\n",
       "      <td>4.555375e+12</td>\n",
       "      <td>-16.5</td>\n",
       "    </tr>\n",
       "    <tr>\n",
       "      <th>...</th>\n",
       "      <td>...</td>\n",
       "      <td>...</td>\n",
       "      <td>...</td>\n",
       "      <td>...</td>\n",
       "      <td>...</td>\n",
       "      <td>...</td>\n",
       "    </tr>\n",
       "    <tr>\n",
       "      <th>2022-02-02 09:29:10</th>\n",
       "      <td>4563250000000</td>\n",
       "      <td>4563500000000</td>\n",
       "      <td>7</td>\n",
       "      <td>8</td>\n",
       "      <td>4.563375e+12</td>\n",
       "      <td>-31.0</td>\n",
       "    </tr>\n",
       "    <tr>\n",
       "      <th>2022-02-02 09:29:20</th>\n",
       "      <td>4563750000000</td>\n",
       "      <td>4564000000000</td>\n",
       "      <td>10</td>\n",
       "      <td>12</td>\n",
       "      <td>4.563875e+12</td>\n",
       "      <td>-7.5</td>\n",
       "    </tr>\n",
       "    <tr>\n",
       "      <th>2022-02-02 09:29:30</th>\n",
       "      <td>4563750000000</td>\n",
       "      <td>4564250000000</td>\n",
       "      <td>14</td>\n",
       "      <td>12</td>\n",
       "      <td>4.564000e+12</td>\n",
       "      <td>37.0</td>\n",
       "    </tr>\n",
       "    <tr>\n",
       "      <th>2022-02-02 09:29:40</th>\n",
       "      <td>4563500000000</td>\n",
       "      <td>4563750000000</td>\n",
       "      <td>3</td>\n",
       "      <td>13</td>\n",
       "      <td>4.563625e+12</td>\n",
       "      <td>39.0</td>\n",
       "    </tr>\n",
       "    <tr>\n",
       "      <th>2022-02-02 09:29:50</th>\n",
       "      <td>4563500000000</td>\n",
       "      <td>4563750000000</td>\n",
       "      <td>5</td>\n",
       "      <td>21</td>\n",
       "      <td>4.563625e+12</td>\n",
       "      <td>-40.0</td>\n",
       "    </tr>\n",
       "  </tbody>\n",
       "</table>\n",
       "<p>180 rows × 6 columns</p>\n",
       "</div>"
      ],
      "text/plain": [
       "                          best_bid       best_ask  size_bid  size_ask  \\\n",
       "ts_event                                                                \n",
       "2022-02-02 09:00:00  4555250000000  4555500000000         7         2   \n",
       "2022-02-02 09:00:10  4554750000000  4555000000000         5        19   \n",
       "2022-02-02 09:00:20  4555500000000  4555750000000        14         4   \n",
       "2022-02-02 09:00:30  4555000000000  4555500000000        24        13   \n",
       "2022-02-02 09:00:40  4555250000000  4555500000000        12        12   \n",
       "...                            ...            ...       ...       ...   \n",
       "2022-02-02 09:29:10  4563250000000  4563500000000         7         8   \n",
       "2022-02-02 09:29:20  4563750000000  4564000000000        10        12   \n",
       "2022-02-02 09:29:30  4563750000000  4564250000000        14        12   \n",
       "2022-02-02 09:29:40  4563500000000  4563750000000         3        13   \n",
       "2022-02-02 09:29:50  4563500000000  4563750000000         5        21   \n",
       "\n",
       "                        mid_price    OFI  \n",
       "ts_event                                  \n",
       "2022-02-02 09:00:00  4.555375e+12    NaN  \n",
       "2022-02-02 09:00:10  4.554875e+12  288.5  \n",
       "2022-02-02 09:00:20  4.555625e+12  133.0  \n",
       "2022-02-02 09:00:30  4.555250e+12   70.0  \n",
       "2022-02-02 09:00:40  4.555375e+12  -16.5  \n",
       "...                           ...    ...  \n",
       "2022-02-02 09:29:10  4.563375e+12  -31.0  \n",
       "2022-02-02 09:29:20  4.563875e+12   -7.5  \n",
       "2022-02-02 09:29:30  4.564000e+12   37.0  \n",
       "2022-02-02 09:29:40  4.563625e+12   39.0  \n",
       "2022-02-02 09:29:50  4.563625e+12  -40.0  \n",
       "\n",
       "[180 rows x 6 columns]"
      ]
     },
     "execution_count": 97,
     "metadata": {},
     "output_type": "execute_result"
    }
   ],
   "source": [
    "df_l0"
   ]
  },
  {
   "cell_type": "code",
   "execution_count": 65,
   "id": "7cd0d447-736b-404c-84eb-33406247e135",
   "metadata": {},
   "outputs": [],
   "source": [
    "df_l0['OFI']=df_l0['OFI'].shift(1)"
   ]
  },
  {
   "cell_type": "code",
   "execution_count": 81,
   "id": "82bc8850-c8fa-41fa-8258-ce9f0ab5d631",
   "metadata": {},
   "outputs": [],
   "source": [
    "delP=df_l0['mid_price'].diff().to_numpy()*1e-9"
   ]
  },
  {
   "cell_type": "code",
   "execution_count": 82,
   "id": "713ab4ed-99fc-48c3-98f7-be4a8ab0e6fa",
   "metadata": {},
   "outputs": [],
   "source": [
    "ofi=df_l0['OFI'].to_numpy()"
   ]
  },
  {
   "cell_type": "code",
   "execution_count": 83,
   "id": "8e83c199-9198-4e85-a6d1-904aa9398693",
   "metadata": {},
   "outputs": [
    {
     "data": {
      "text/plain": [
       "<matplotlib.collections.PathCollection at 0x744d63d38950>"
      ]
     },
     "execution_count": 83,
     "metadata": {},
     "output_type": "execute_result"
    },
    {
     "data": {
      "image/png": "[encoded data removed]",
      "text/plain": [
       "<Figure size 640x480 with 1 Axes>"
      ]
     },
     "metadata": {},
     "output_type": "display_data"
    }
   ],
   "source": [
    "plt.scatter(ofi,delP)"
   ]
  },
  {
   "cell_type": "code",
   "execution_count": 84,
   "id": "fe87c9a9-ef5f-471e-9257-ee84875bbb09",
   "metadata": {},
   "outputs": [
    {
     "data": {
      "text/plain": [
       "array([[1.        , 0.12917097],\n",
       "       [0.12917097, 1.        ]])"
      ]
     },
     "execution_count": 84,
     "metadata": {},
     "output_type": "execute_result"
    }
   ],
   "source": [
    "np.corrcoef(delP[1:],ofi[1:])"
   ]
  },
  {
   "cell_type": "code",
   "execution_count": 91,
   "id": "f1b05ace-237b-4781-beb1-dc0c2b741b10",
   "metadata": {},
   "outputs": [],
   "source": [
    "beta=np.sum((ofi[1:]-np.mean(ofi[1:]))*(delP[1:]-np.mean(delP[1:])))/np.sum((ofi[1:]-np.mean(ofi[1:]))**2)\n",
    "beta0=np.mean(delP[1:])-beta*np.mean(ofi[1:])"
   ]
  },
  {
   "cell_type": "code",
   "execution_count": 92,
   "id": "a2bca585-869a-485c-bca1-e9fe9a1c7adf",
   "metadata": {},
   "outputs": [
    {
     "data": {
      "text/plain": [
       "0.0007797102809405263"
      ]
     },
     "execution_count": 92,
     "metadata": {},
     "output_type": "execute_result"
    },
    {
     "data": {
      "text/plain": [
       "0.025178775398575437"
      ]
     },
     "execution_count": 92,
     "metadata": {},
     "output_type": "execute_result"
    }
   ],
   "source": [
    "beta\n",
    "beta0"
   ]
  },
  {
   "cell_type": "code",
   "execution_count": 96,
   "id": "6ea42636-eda3-4263-bbb3-50e686c3f926",
   "metadata": {},
   "outputs": [
    {
     "data": {
      "text/plain": [
       "0.016685139162536"
      ]
     },
     "execution_count": 96,
     "metadata": {},
     "output_type": "execute_result"
    }
   ],
   "source": [
    "SSres=np.sum((delP[1:]-(beta0+beta*ofi[1:]))**2)\n",
    "SStot=np.sum((delP[1:]-np.mean(delP[1:]))**2)\n",
    "1-SSres/SStot"
   ]
  },
  {
   "cell_type": "code",
   "execution_count": 98,
   "id": "34fd3812-20b1-48e2-96fc-a2a29f147302",
   "metadata": {},
   "outputs": [],
   "source": [
    "# [len(half_hour_events(pd.Timestamp('2022-02-01 18:00:00')+pd.Timedelta(minutes=i),30)) for i in range(0,15*60,30)]"
   ]
  },
  {
   "cell_type": "code",
   "execution_count": 18,
   "id": "5921ac36-6402-41db-9737-3602aa808744",
   "metadata": {},
   "outputs": [],
   "source": [
    "# class BasicProp:\n",
    "#     def __init__(self,df):\n",
    "#         self.df=df\n",
    "#         self.lvl_list=lvl_lst\n",
    "        \n",
    "#     def mid_price(self):\n",
    "#         mids={}\n",
    "#         for lvl in self.lvl_list:\n",
    "#             mids[f'mid_px_{lvl}']=(self.df[f'ask_px_{lvl}']+self.df[f'bid_px_{lvl}'])/2\n",
    "#         return pd.DataFrame(mids, index=self.df.index)\n",
    "        \n",
    "#     def spread(self):\n",
    "#         sprd={}\n",
    "#         for lvl in self.lvl_list:\n",
    "#             sprd[f'spread_{lvl}']=self.df[f'ask_px_{lvl}']-self.df[f'bid_px_{lvl}']\n",
    "#         return pd.DataFrame(sprd, index=self.df.index)\n",
    "\n",
    "#     def rel_spread(self):\n",
    "#         rel_sprd={}\n",
    "#         for lvl in self.lvl_list:\n",
    "#             rel_sprd[f'rel_spread_{lvl}']=2*(self.df[f'ask_px_{lvl}']-self.df[f'bid_px_{lvl}'])/(self.df[f'ask_px_{lvl}']+self.df[f'bid_px_{lvl}'])\n",
    "#         return pd.DataFrame(rel_sprd, index=self.df.index)\n",
    "\n",
    "#     def ob_imbl(self):\n",
    "#         imbl={}\n",
    "#         for lvl in self.lvl_list:\n",
    "#             imbl[f'ob_imbl_{lvl}']=self.df[f'bid_sz_{lvl}']/self.df[f'bid_sz_{lvl}']+self.df[f'ask_sz_{lvl}']\n",
    "#         return pd.DataFrame(imbl, index=self.df.index)\n",
    "\n",
    "#     def quote_return(self,case:str):\n",
    "#         rtn={}\n",
    "#         for lvl in self.lvl_list:\n",
    "#             mid=(self.df[f'ask_px_{lvl}']+self.df[f'bid_px_{lvl}'])/2\n",
    "#             if case =='abs':\n",
    "#                 rtn[f'abs_return_{lvl}']=mid.diff()/mid.shift(1)\n",
    "#             elif case =='log':\n",
    "#                 rtn[f'log_return_{lvl}']=np.log(mid).diff()\n",
    "#         return pd.DataFrame(rtn, index=self.df.index)\n",
    "\n",
    "#     def volatility(self,win:int):\n",
    "#         vol={}\n",
    "#         for lvl in self.lvl_list:\n",
    "#             mid=(self.df[f'ask_px_{lvl}']+self.df[f'bid_px_{lvl}'])/2\n",
    "#             rtn=mid.diff()/mid.shift(1)\n",
    "#             vol[f'vol_{lvl}_{win}']=rtn.rolling(window=win).std()\n",
    "#         return pd.DataFrame(vol, index=self.df.index)\n"
   ]
  },
  {
   "cell_type": "code",
   "execution_count": 19,
   "id": "4af19b5f-750e-474d-aa69-5839fe5000cf",
   "metadata": {},
   "outputs": [],
   "source": [
    "# ESH2_basic=BasicProp(df_ESH2)"
   ]
  },
  {
   "cell_type": "code",
   "execution_count": 25,
   "id": "e8b640f6-ecfc-4f8c-96ee-6e454a240142",
   "metadata": {},
   "outputs": [
    {
     "data": {
      "text/plain": [
       "spread_00    0.094032\n",
       "spread_02    0.089995\n",
       "spread_04    0.088397\n",
       "spread_06    0.088070\n",
       "dtype: float64"
      ]
     },
     "execution_count": 25,
     "metadata": {},
     "output_type": "execute_result"
    }
   ],
   "source": [
    "# ESH2_basic.spread().std()*1e-9"
   ]
  },
  {
   "cell_type": "code",
   "execution_count": 29,
   "id": "9096c558-5cef-4839-8a76-c76f942532ef",
   "metadata": {},
   "outputs": [
    {
     "data": {
      "text/html": [
       "<div>\n",
       "<style scoped>\n",
       "    .dataframe tbody tr th:only-of-type {\n",
       "        vertical-align: middle;\n",
       "    }\n",
       "\n",
       "    .dataframe tbody tr th {\n",
       "        vertical-align: top;\n",
       "    }\n",
       "\n",
       "    .dataframe thead th {\n",
       "        text-align: right;\n",
       "    }\n",
       "</style>\n",
       "<table border=\"1\" class=\"dataframe\">\n",
       "  <thead>\n",
       "    <tr style=\"text-align: right;\">\n",
       "      <th></th>\n",
       "      <th>ob_imbl_00</th>\n",
       "      <th>ob_imbl_02</th>\n",
       "      <th>ob_imbl_04</th>\n",
       "      <th>ob_imbl_06</th>\n",
       "    </tr>\n",
       "    <tr>\n",
       "      <th>ts_event</th>\n",
       "      <th></th>\n",
       "      <th></th>\n",
       "      <th></th>\n",
       "      <th></th>\n",
       "    </tr>\n",
       "  </thead>\n",
       "  <tbody>\n",
       "    <tr>\n",
       "      <th>2022-01-31 23:59:59.971733295+00:00</th>\n",
       "      <td>10.0</td>\n",
       "      <td>15.0</td>\n",
       "      <td>23.0</td>\n",
       "      <td>26.0</td>\n",
       "    </tr>\n",
       "    <tr>\n",
       "      <th>2022-02-01 00:00:00.000486527+00:00</th>\n",
       "      <td>10.0</td>\n",
       "      <td>15.0</td>\n",
       "      <td>23.0</td>\n",
       "      <td>26.0</td>\n",
       "    </tr>\n",
       "    <tr>\n",
       "      <th>2022-02-01 00:00:00.003668709+00:00</th>\n",
       "      <td>10.0</td>\n",
       "      <td>15.0</td>\n",
       "      <td>23.0</td>\n",
       "      <td>26.0</td>\n",
       "    </tr>\n",
       "    <tr>\n",
       "      <th>2022-02-01 00:00:00.018315709+00:00</th>\n",
       "      <td>11.0</td>\n",
       "      <td>15.0</td>\n",
       "      <td>23.0</td>\n",
       "      <td>26.0</td>\n",
       "    </tr>\n",
       "    <tr>\n",
       "      <th>2022-02-01 00:00:00.018439925+00:00</th>\n",
       "      <td>11.0</td>\n",
       "      <td>15.0</td>\n",
       "      <td>23.0</td>\n",
       "      <td>26.0</td>\n",
       "    </tr>\n",
       "    <tr>\n",
       "      <th>...</th>\n",
       "      <td>...</td>\n",
       "      <td>...</td>\n",
       "      <td>...</td>\n",
       "      <td>...</td>\n",
       "    </tr>\n",
       "    <tr>\n",
       "      <th>2022-02-01 23:59:58.525084963+00:00</th>\n",
       "      <td>12.0</td>\n",
       "      <td>21.0</td>\n",
       "      <td>19.0</td>\n",
       "      <td>26.0</td>\n",
       "    </tr>\n",
       "    <tr>\n",
       "      <th>2022-02-01 23:59:58.525086845+00:00</th>\n",
       "      <td>12.0</td>\n",
       "      <td>21.0</td>\n",
       "      <td>19.0</td>\n",
       "      <td>26.0</td>\n",
       "    </tr>\n",
       "    <tr>\n",
       "      <th>2022-02-01 23:59:58.525193993+00:00</th>\n",
       "      <td>12.0</td>\n",
       "      <td>21.0</td>\n",
       "      <td>19.0</td>\n",
       "      <td>26.0</td>\n",
       "    </tr>\n",
       "    <tr>\n",
       "      <th>2022-02-01 23:59:58.525318151+00:00</th>\n",
       "      <td>12.0</td>\n",
       "      <td>21.0</td>\n",
       "      <td>19.0</td>\n",
       "      <td>26.0</td>\n",
       "    </tr>\n",
       "    <tr>\n",
       "      <th>2022-02-01 23:59:58.525420141+00:00</th>\n",
       "      <td>12.0</td>\n",
       "      <td>21.0</td>\n",
       "      <td>19.0</td>\n",
       "      <td>26.0</td>\n",
       "    </tr>\n",
       "  </tbody>\n",
       "</table>\n",
       "<p>9661535 rows × 4 columns</p>\n",
       "</div>"
      ],
      "text/plain": [
       "                                     ob_imbl_00  ob_imbl_02  ob_imbl_04  \\\n",
       "ts_event                                                                  \n",
       "2022-01-31 23:59:59.971733295+00:00        10.0        15.0        23.0   \n",
       "2022-02-01 00:00:00.000486527+00:00        10.0        15.0        23.0   \n",
       "2022-02-01 00:00:00.003668709+00:00        10.0        15.0        23.0   \n",
       "2022-02-01 00:00:00.018315709+00:00        11.0        15.0        23.0   \n",
       "2022-02-01 00:00:00.018439925+00:00        11.0        15.0        23.0   \n",
       "...                                         ...         ...         ...   \n",
       "2022-02-01 23:59:58.525084963+00:00        12.0        21.0        19.0   \n",
       "2022-02-01 23:59:58.525086845+00:00        12.0        21.0        19.0   \n",
       "2022-02-01 23:59:58.525193993+00:00        12.0        21.0        19.0   \n",
       "2022-02-01 23:59:58.525318151+00:00        12.0        21.0        19.0   \n",
       "2022-02-01 23:59:58.525420141+00:00        12.0        21.0        19.0   \n",
       "\n",
       "                                     ob_imbl_06  \n",
       "ts_event                                         \n",
       "2022-01-31 23:59:59.971733295+00:00        26.0  \n",
       "2022-02-01 00:00:00.000486527+00:00        26.0  \n",
       "2022-02-01 00:00:00.003668709+00:00        26.0  \n",
       "2022-02-01 00:00:00.018315709+00:00        26.0  \n",
       "2022-02-01 00:00:00.018439925+00:00        26.0  \n",
       "...                                         ...  \n",
       "2022-02-01 23:59:58.525084963+00:00        26.0  \n",
       "2022-02-01 23:59:58.525086845+00:00        26.0  \n",
       "2022-02-01 23:59:58.525193993+00:00        26.0  \n",
       "2022-02-01 23:59:58.525318151+00:00        26.0  \n",
       "2022-02-01 23:59:58.525420141+00:00        26.0  \n",
       "\n",
       "[9661535 rows x 4 columns]"
      ]
     },
     "execution_count": 29,
     "metadata": {},
     "output_type": "execute_result"
    }
   ],
   "source": [
    "# ESH2_basic.ob_imbl()"
   ]
  },
  {
   "cell_type": "code",
   "execution_count": 98,
   "id": "51879c09-c80c-4f2d-80ce-d8b497013414",
   "metadata": {},
   "outputs": [],
   "source": [
    "#ESH2_basic.mid_price().iloc[::1000].plot()\n",
    "#ESH2_basic.spread().iloc[::1000].plot()\n",
    "#ESH2_basic.rel_spread().loc['2022-02-01 15:00:00':'2022-02-01 16:00:00'].iloc[::10000].plot()\n",
    "#ESH2_basic.ob_imbl().loc['2022-02-01 15:00:00':'2022-02-01 16:00:00'].iloc[::10000].plot()\n",
    "#ESH2_basic.quote_return('log').iloc[::1000].plot()\n",
    "#ESH2_basic.volatility(10000).iloc[::100000].plot()"
   ]
  },
  {
   "cell_type": "code",
   "execution_count": null,
   "id": "0d037b2a-1c9d-4f53-af37-3180a9dc83bc",
   "metadata": {},
   "outputs": [],
   "source": []
  },
  {
   "cell_type": "code",
   "execution_count": null,
   "id": "8539348b-4444-465f-b7a3-8b2f4168c5ce",
   "metadata": {},
   "outputs": [],
   "source": []
  }
 ],
 "metadata": {
  "kernelspec": {
   "display_name": "Python 3 (ipykernel)",
   "language": "python",
   "name": "python3"
  },
  "language_info": {
   "codemirror_mode": {
    "name": "ipython",
    "version": 3
   },
   "file_extension": ".py",
   "mimetype": "text/x-python",
   "name": "python",
   "nbconvert_exporter": "python",
   "pygments_lexer": "ipython3",
   "version": "3.12.2"
  }
 },
 "nbformat": 4,
 "nbformat_minor": 5
}
