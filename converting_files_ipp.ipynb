{
 "cells": [
  {
   "cell_type": "code",
   "execution_count": 1,
   "id": "ed61521f-fb2d-428c-9015-9e92de411f67",
   "metadata": {},
   "outputs": [
    {
     "name": "stdout",
     "output_type": "stream",
     "text": [
      "Starting 4 engines with <class 'ipyparallel.cluster.launcher.LocalEngineSetLauncher'>\n"
     ]
    },
    {
     "data": {
      "application/vnd.jupyter.widget-view+json": {
       "model_id": "fb9b450fc3f64a6ab750a41ab63f8cff",
       "version_major": 2,
       "version_minor": 0
      },
      "text/plain": [
       "  0%|          | 0/4 [00:00<?, ?engine/s]"
      ]
     },
     "metadata": {},
     "output_type": "display_data"
    }
   ],
   "source": [
    "import ipyparallel as ipp\n",
    "\n",
    "rc = ipp.Cluster(n=4).start_and_connect_sync()\n",
    "dview=rc[:]\n",
    "lview=rc.load_balanced_view()"
   ]
  },
  {
   "cell_type": "code",
   "execution_count": 2,
   "id": "ecdcecea-970b-4767-a4b7-18804d085f36",
   "metadata": {},
   "outputs": [
    {
     "data": {
      "text/plain": [
       "[0, 1, 2, 3, 4, 5]"
      ]
     },
     "execution_count": 2,
     "metadata": {},
     "output_type": "execute_result"
    }
   ],
   "source": [
    "len(dview)\n",
    "rc.ids"
   ]
  },
  {
   "cell_type": "code",
   "execution_count": 6,
   "id": "2be0097f-a01b-400f-b966-7203e8e79537",
   "metadata": {},
   "outputs": [],
   "source": [
    "%%px --local\n",
    "\n",
    "import warnings\n",
    "warnings.filterwarnings(\"ignore\", category=DeprecationWarning)"
   ]
  },
  {
   "cell_type": "code",
   "execution_count": 7,
   "id": "e5a7cca4-fba3-4a80-b4b0-f1adab1c5d66",
   "metadata": {},
   "outputs": [],
   "source": [
    "%%px --local\n",
    "\n",
    "import os\n",
    "import numpy as np\n",
    "import matplotlib.pyplot as plt\n",
    "import pandas as pd\n",
    "import scipy as sp\n",
    "import databento as db \n",
    "import zstandard as zstd\n",
    "from databento import DBNStore"
   ]
  },
  {
   "cell_type": "code",
   "execution_count": 8,
   "id": "34997619-2d2d-4eac-99f7-d2df932fa933",
   "metadata": {},
   "outputs": [],
   "source": [
    "%%px --local\n",
    "\n",
    "notebook_dir=\"/home/rupam/Rupam_pcloud/Quantitative Finance/Quant_researcher_Job/Strategic_prep/My_projects/\"\n",
    "data_path=notebook_dir+\"Mini_S_and_P_futures_data/LOB_10/\"\n",
    "\n",
    "raw_files=[f for f in os.listdir(data_path) if f.endswith('.dbn.zst')]"
   ]
  },
  {
   "cell_type": "code",
   "execution_count": 9,
   "id": "aa83a831-6d07-4840-a5b4-9235a42c81a1",
   "metadata": {},
   "outputs": [],
   "source": [
    "%%px --local\n",
    "\n",
    "def convert_to_parquet(raw_file,data_path=data_path):\n",
    "    full_path=os.path.join(data_path,raw_file)\n",
    "    parquet_file=full_path.replace('.dbn.zst','.parquet')\n",
    "    store=DBNStore.from_file(full_path)\n",
    "    store.to_parquet(parquet_file, pretty_ts=False, price_type=\"fixed\")\n",
    "    os.remove(full_path)"
   ]
  },
  {
   "cell_type": "code",
   "execution_count": 10,
   "id": "db78047a-e1fa-4d1e-b096-ae7079a4f697",
   "metadata": {},
   "outputs": [
    {
     "data": {
      "application/vnd.jupyter.widget-view+json": {
       "model_id": "0e46935fb61046e3a1575c25f34eecd5",
       "version_major": 2,
       "version_minor": 0
      },
      "text/plain": [
       "convert_to_parquet:   0%|          | 0/3 [00:00<?, ?tasks/s]"
      ]
     },
     "metadata": {},
     "output_type": "display_data"
    },
    {
     "data": {
      "text/plain": [
       "[None, None, None]"
      ]
     },
     "execution_count": 10,
     "metadata": {},
     "output_type": "execute_result"
    },
    {
     "ename": "CompositeError",
     "evalue": "one or more exceptions raised in: %px\n[0:execute]NameError: name 'lview' is not defined\n[1:execute]NameError: name 'lview' is not defined\n[2:execute]NameError: name 'lview' is not defined\n[3:execute]NameError: name 'lview' is not defined\n.... 2 more exceptions ...",
     "output_type": "error",
     "traceback": [
      "[0:execute]:",
      "\u001b[0;31m---------------------------------------------------------------------------\u001b[0m",
      "\u001b[0;31mNameError\u001b[0m                                 Traceback (most recent call last)",
      "Cell \u001b[0;32mIn[8], line 1\u001b[0m",
      "\u001b[0;32m----> 1\u001b[0m async_result\u001b[38;5;241m=\u001b[39mlview\u001b[38;5;241m.\u001b[39mmap_async(convert_to_parquet, raw_files)",
      "\u001b[1;32m      2\u001b[0m async_result\u001b[38;5;241m.\u001b[39mwait_interactive()",
      "\u001b[1;32m      3\u001b[0m async_result\u001b[38;5;241m.\u001b[39mget()",
      "",
      "\u001b[0;31mNameError\u001b[0m: name 'lview' is not defined",
      "",
      "[1:execute]:",
      "\u001b[0;31m---------------------------------------------------------------------------\u001b[0m",
      "\u001b[0;31mNameError\u001b[0m                                 Traceback (most recent call last)",
      "Cell \u001b[0;32mIn[8], line 1\u001b[0m",
      "\u001b[0;32m----> 1\u001b[0m async_result\u001b[38;5;241m=\u001b[39mlview\u001b[38;5;241m.\u001b[39mmap_async(convert_to_parquet, raw_files)",
      "\u001b[1;32m      2\u001b[0m async_result\u001b[38;5;241m.\u001b[39mwait_interactive()",
      "\u001b[1;32m      3\u001b[0m async_result\u001b[38;5;241m.\u001b[39mget()",
      "",
      "\u001b[0;31mNameError\u001b[0m: name 'lview' is not defined",
      "",
      "[2:execute]:",
      "\u001b[0;31m---------------------------------------------------------------------------\u001b[0m",
      "\u001b[0;31mNameError\u001b[0m                                 Traceback (most recent call last)",
      "Cell \u001b[0;32mIn[8], line 1\u001b[0m",
      "\u001b[0;32m----> 1\u001b[0m async_result\u001b[38;5;241m=\u001b[39mlview\u001b[38;5;241m.\u001b[39mmap_async(convert_to_parquet, raw_files)",
      "\u001b[1;32m      2\u001b[0m async_result\u001b[38;5;241m.\u001b[39mwait_interactive()",
      "\u001b[1;32m      3\u001b[0m async_result\u001b[38;5;241m.\u001b[39mget()",
      "",
      "\u001b[0;31mNameError\u001b[0m: name 'lview' is not defined",
      "",
      "[3:execute]:",
      "\u001b[0;31m---------------------------------------------------------------------------\u001b[0m",
      "\u001b[0;31mNameError\u001b[0m                                 Traceback (most recent call last)",
      "Cell \u001b[0;32mIn[8], line 1\u001b[0m",
      "\u001b[0;32m----> 1\u001b[0m async_result\u001b[38;5;241m=\u001b[39mlview\u001b[38;5;241m.\u001b[39mmap_async(convert_to_parquet, raw_files)",
      "\u001b[1;32m      2\u001b[0m async_result\u001b[38;5;241m.\u001b[39mwait_interactive()",
      "\u001b[1;32m      3\u001b[0m async_result\u001b[38;5;241m.\u001b[39mget()",
      "",
      "\u001b[0;31mNameError\u001b[0m: name 'lview' is not defined",
      "",
      "... 2 more exceptions ..."
     ]
    }
   ],
   "source": [
    "%%px --local\n",
    "\n",
    "async_result=lview.map_async(convert_to_parquet, raw_files)\n",
    "async_result.wait_interactive()\n",
    "async_result.get()"
   ]
  },
  {
   "cell_type": "code",
   "execution_count": null,
   "id": "395bf7ba-6ec6-4038-a3e8-d807928ffba7",
   "metadata": {},
   "outputs": [],
   "source": []
  },
  {
   "cell_type": "code",
   "execution_count": null,
   "id": "77e77bce-90af-49df-bb1a-3b65d658cee0",
   "metadata": {},
   "outputs": [],
   "source": []
  }
 ],
 "metadata": {
  "kernelspec": {
   "display_name": "Python 3 (ipykernel)",
   "language": "python",
   "name": "python3"
  },
  "language_info": {
   "codemirror_mode": {
    "name": "ipython",
    "version": 3
   },
   "file_extension": ".py",
   "mimetype": "text/x-python",
   "name": "python",
   "nbconvert_exporter": "python",
   "pygments_lexer": "ipython3",
   "version": "3.12.2"
  }
 },
 "nbformat": 4,
 "nbformat_minor": 5
}
