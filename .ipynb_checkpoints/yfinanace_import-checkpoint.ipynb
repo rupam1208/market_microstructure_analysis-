{
 "cells": [
  {
   "cell_type": "code",
   "execution_count": 1,
   "id": "93a50029-3218-4a36-b24f-c7dcab5944b2",
   "metadata": {},
   "outputs": [],
   "source": [
    "import yfinance as yf\n",
    "import numpy as np\n",
    "import os \n",
    "import pandas as pd"
   ]
  },
  {
   "cell_type": "code",
   "execution_count": 51,
   "id": "b3ab6b3d-aa92-4f93-8571-944002f50797",
   "metadata": {},
   "outputs": [
    {
     "data": {
      "text/plain": [
       "'..'"
      ]
     },
     "execution_count": 51,
     "metadata": {},
     "output_type": "execute_result"
    }
   ],
   "source": [
    "dir='/home/rupam/Desktop/My_projects/Fin_data/Mini_S_and_P_futures_data'"
   ]
  },
  {
   "cell_type": "code",
   "execution_count": 41,
   "id": "72a9a3d9-080a-445f-b236-3daee73dff4a",
   "metadata": {},
   "outputs": [
    {
     "name": "stderr",
     "output_type": "stream",
     "text": [
      "/tmp/ipykernel_291780/3826028420.py:1: FutureWarning: YF.download() has changed argument auto_adjust default to True\n",
      "  data=yf.download('^NSEI',period='8d',interval='1m')\n",
      "[*********************100%***********************]  1 of 1 completed\n"
     ]
    }
   ],
   "source": [
    "data=yf.download('^NSEI',period='8d',interval='1m')"
   ]
  },
  {
   "cell_type": "code",
   "execution_count": 43,
   "id": "2744f648-53a4-47fb-a1b0-687a0e31de49",
   "metadata": {},
   "outputs": [
    {
     "data": {
      "text/html": [
       "<div>\n",
       "<style scoped>\n",
       "    .dataframe tbody tr th:only-of-type {\n",
       "        vertical-align: middle;\n",
       "    }\n",
       "\n",
       "    .dataframe tbody tr th {\n",
       "        vertical-align: top;\n",
       "    }\n",
       "\n",
       "    .dataframe thead tr th {\n",
       "        text-align: left;\n",
       "    }\n",
       "\n",
       "    .dataframe thead tr:last-of-type th {\n",
       "        text-align: right;\n",
       "    }\n",
       "</style>\n",
       "<table border=\"1\" class=\"dataframe\">\n",
       "  <thead>\n",
       "    <tr>\n",
       "      <th>Price</th>\n",
       "      <th>Close</th>\n",
       "      <th>High</th>\n",
       "      <th>Low</th>\n",
       "      <th>Open</th>\n",
       "      <th>Volume</th>\n",
       "    </tr>\n",
       "    <tr>\n",
       "      <th>Ticker</th>\n",
       "      <th>^NSEI</th>\n",
       "      <th>^NSEI</th>\n",
       "      <th>^NSEI</th>\n",
       "      <th>^NSEI</th>\n",
       "      <th>^NSEI</th>\n",
       "    </tr>\n",
       "    <tr>\n",
       "      <th>Datetime</th>\n",
       "      <th></th>\n",
       "      <th></th>\n",
       "      <th></th>\n",
       "      <th></th>\n",
       "      <th></th>\n",
       "    </tr>\n",
       "  </thead>\n",
       "  <tbody>\n",
       "    <tr>\n",
       "      <th>2025-07-16 03:45:00+00:00</th>\n",
       "      <td>25168.750000</td>\n",
       "      <td>25213.349609</td>\n",
       "      <td>25160.199219</td>\n",
       "      <td>25213.349609</td>\n",
       "      <td>0</td>\n",
       "    </tr>\n",
       "    <tr>\n",
       "      <th>2025-07-16 03:46:00+00:00</th>\n",
       "      <td>25176.449219</td>\n",
       "      <td>25187.949219</td>\n",
       "      <td>25165.500000</td>\n",
       "      <td>25170.849609</td>\n",
       "      <td>0</td>\n",
       "    </tr>\n",
       "    <tr>\n",
       "      <th>2025-07-16 03:47:00+00:00</th>\n",
       "      <td>25175.500000</td>\n",
       "      <td>25177.750000</td>\n",
       "      <td>25156.949219</td>\n",
       "      <td>25177.349609</td>\n",
       "      <td>0</td>\n",
       "    </tr>\n",
       "    <tr>\n",
       "      <th>2025-07-16 03:48:00+00:00</th>\n",
       "      <td>25164.400391</td>\n",
       "      <td>25174.400391</td>\n",
       "      <td>25157.849609</td>\n",
       "      <td>25173.800781</td>\n",
       "      <td>0</td>\n",
       "    </tr>\n",
       "    <tr>\n",
       "      <th>2025-07-16 03:49:00+00:00</th>\n",
       "      <td>25159.750000</td>\n",
       "      <td>25165.699219</td>\n",
       "      <td>25157.349609</td>\n",
       "      <td>25165.699219</td>\n",
       "      <td>0</td>\n",
       "    </tr>\n",
       "    <tr>\n",
       "      <th>...</th>\n",
       "      <td>...</td>\n",
       "      <td>...</td>\n",
       "      <td>...</td>\n",
       "      <td>...</td>\n",
       "      <td>...</td>\n",
       "    </tr>\n",
       "    <tr>\n",
       "      <th>2025-07-16 09:55:00+00:00</th>\n",
       "      <td>25201.900391</td>\n",
       "      <td>25203.599609</td>\n",
       "      <td>25197.449219</td>\n",
       "      <td>25197.449219</td>\n",
       "      <td>0</td>\n",
       "    </tr>\n",
       "    <tr>\n",
       "      <th>2025-07-16 09:56:00+00:00</th>\n",
       "      <td>25202.849609</td>\n",
       "      <td>25205.800781</td>\n",
       "      <td>25201.900391</td>\n",
       "      <td>25202.900391</td>\n",
       "      <td>0</td>\n",
       "    </tr>\n",
       "    <tr>\n",
       "      <th>2025-07-16 09:57:00+00:00</th>\n",
       "      <td>25200.150391</td>\n",
       "      <td>25206.400391</td>\n",
       "      <td>25199.099609</td>\n",
       "      <td>25204.250000</td>\n",
       "      <td>0</td>\n",
       "    </tr>\n",
       "    <tr>\n",
       "      <th>2025-07-16 09:58:00+00:00</th>\n",
       "      <td>25199.550781</td>\n",
       "      <td>25201.300781</td>\n",
       "      <td>25190.599609</td>\n",
       "      <td>25201.300781</td>\n",
       "      <td>0</td>\n",
       "    </tr>\n",
       "    <tr>\n",
       "      <th>2025-07-16 09:59:00+00:00</th>\n",
       "      <td>25198.550781</td>\n",
       "      <td>25206.449219</td>\n",
       "      <td>25192.949219</td>\n",
       "      <td>25199.150391</td>\n",
       "      <td>0</td>\n",
       "    </tr>\n",
       "  </tbody>\n",
       "</table>\n",
       "<p>375 rows × 5 columns</p>\n",
       "</div>"
      ],
      "text/plain": [
       "Price                             Close          High           Low  \\\n",
       "Ticker                            ^NSEI         ^NSEI         ^NSEI   \n",
       "Datetime                                                              \n",
       "2025-07-16 03:45:00+00:00  25168.750000  25213.349609  25160.199219   \n",
       "2025-07-16 03:46:00+00:00  25176.449219  25187.949219  25165.500000   \n",
       "2025-07-16 03:47:00+00:00  25175.500000  25177.750000  25156.949219   \n",
       "2025-07-16 03:48:00+00:00  25164.400391  25174.400391  25157.849609   \n",
       "2025-07-16 03:49:00+00:00  25159.750000  25165.699219  25157.349609   \n",
       "...                                 ...           ...           ...   \n",
       "2025-07-16 09:55:00+00:00  25201.900391  25203.599609  25197.449219   \n",
       "2025-07-16 09:56:00+00:00  25202.849609  25205.800781  25201.900391   \n",
       "2025-07-16 09:57:00+00:00  25200.150391  25206.400391  25199.099609   \n",
       "2025-07-16 09:58:00+00:00  25199.550781  25201.300781  25190.599609   \n",
       "2025-07-16 09:59:00+00:00  25198.550781  25206.449219  25192.949219   \n",
       "\n",
       "Price                              Open Volume  \n",
       "Ticker                            ^NSEI  ^NSEI  \n",
       "Datetime                                        \n",
       "2025-07-16 03:45:00+00:00  25213.349609      0  \n",
       "2025-07-16 03:46:00+00:00  25170.849609      0  \n",
       "2025-07-16 03:47:00+00:00  25177.349609      0  \n",
       "2025-07-16 03:48:00+00:00  25173.800781      0  \n",
       "2025-07-16 03:49:00+00:00  25165.699219      0  \n",
       "...                                 ...    ...  \n",
       "2025-07-16 09:55:00+00:00  25197.449219      0  \n",
       "2025-07-16 09:56:00+00:00  25202.900391      0  \n",
       "2025-07-16 09:57:00+00:00  25204.250000      0  \n",
       "2025-07-16 09:58:00+00:00  25201.300781      0  \n",
       "2025-07-16 09:59:00+00:00  25199.150391      0  \n",
       "\n",
       "[375 rows x 5 columns]"
      ]
     },
     "execution_count": 43,
     "metadata": {},
     "output_type": "execute_result"
    }
   ],
   "source": [
    "data.loc['2025-07-16']"
   ]
  },
  {
   "cell_type": "code",
   "execution_count": 44,
   "id": "895eb2f8-c4da-464f-9233-c11f6e840746",
   "metadata": {},
   "outputs": [
    {
     "data": {
      "text/plain": [
       "6.25"
      ]
     },
     "execution_count": 44,
     "metadata": {},
     "output_type": "execute_result"
    }
   ],
   "source": [
    "375/60"
   ]
  },
  {
   "cell_type": "code",
   "execution_count": null,
   "id": "49e3656d-c347-4c0e-9153-2f23b635a59d",
   "metadata": {},
   "outputs": [],
   "source": []
  }
 ],
 "metadata": {
  "kernelspec": {
   "display_name": "Python 3 (ipykernel)",
   "language": "python",
   "name": "python3"
  },
  "language_info": {
   "codemirror_mode": {
    "name": "ipython",
    "version": 3
   },
   "file_extension": ".py",
   "mimetype": "text/x-python",
   "name": "python",
   "nbconvert_exporter": "python",
   "pygments_lexer": "ipython3",
   "version": "3.12.2"
  }
 },
 "nbformat": 4,
 "nbformat_minor": 5
}
